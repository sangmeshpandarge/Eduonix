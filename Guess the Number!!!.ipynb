{
 "cells": [
  {
   "cell_type": "code",
   "execution_count": 8,
   "metadata": {},
   "outputs": [
    {
     "name": "stdout",
     "output_type": "stream",
     "text": [
      "How many games would you like to play? --> 4\n",
      "Pick a number: 8\n",
      "Correct! It took you this only 0 guesses\n",
      "Thank you !!!\n",
      "Pick a number: 9\n",
      "This number is too high\n",
      "Pick a number: 5\n",
      "This number is too high\n",
      "Pick a number: 3\n",
      "This number is too low\n",
      "Pick a number: 4\n",
      "Correct! It took you this only 3 guesses\n",
      "Thank you !!!\n",
      "Pick a number: 12\n",
      "This number is too low\n",
      "Pick a number: 20\n",
      "This number is too low\n",
      "Pick a number: 25\n",
      "This number is too low\n",
      "Pick a number: 26\n",
      "Correct! It took you this only 3 guesses\n",
      "Thank you !!!\n",
      "Pick a number: 56\n",
      "This number is too high\n",
      "Pick a number: 12\n",
      "This number is too high\n",
      "Pick a number: 9\n",
      "This number is too high\n",
      "Pick a number: 5\n",
      "This number is too high\n",
      "Pick a number: 2\n",
      "This number is too high\n",
      "Pick a number: 1\n",
      "Correct! It took you this total 5 guesses\n",
      "Thank you !!!\n"
     ]
    }
   ],
   "source": [
    "import random\n",
    "\n",
    "games = ''\n",
    "\n",
    "while games == '':\n",
    "    try:\n",
    "        games = int(input(\"How many games would you like to play? --> \"))\n",
    "    except:\n",
    "        print(\"Please select using a number\")\n",
    "    \n",
    "for game in range(0,games):\n",
    "    pick = random.randint(1,26)\n",
    "    guess = None\n",
    "    attempts = 0\n",
    "    \n",
    "    while pick != guess:\n",
    "        try:\n",
    "            guess = int(input(\"Pick a number: \"))\n",
    "        except:\n",
    "            print(\"Please select a random number.\")\n",
    "            continue\n",
    "            \n",
    "        if guess != pick:\n",
    "            attempts += 1\n",
    "            if guess > pick:\n",
    "                print(\"This number is too high\")\n",
    "            else:\n",
    "                print(\"This number is too low\")\n",
    "        elif attempts <= 3:\n",
    "            print(\"Correct! It took you this only\", str(attempts) + \" guesses\")\n",
    "            print(\"Thank you !!!\")\n",
    "        else:\n",
    "            print(\"Correct! It took you this total\" , str(attempts) + \" guesses\")\n",
    "            print(\"Thank you !!!\")"
   ]
  },
  {
   "cell_type": "code",
   "execution_count": null,
   "metadata": {},
   "outputs": [],
   "source": []
  }
 ],
 "metadata": {
  "kernelspec": {
   "display_name": "Python 3",
   "language": "python",
   "name": "python3"
  },
  "language_info": {
   "codemirror_mode": {
    "name": "ipython",
    "version": 3
   },
   "file_extension": ".py",
   "mimetype": "text/x-python",
   "name": "python",
   "nbconvert_exporter": "python",
   "pygments_lexer": "ipython3",
   "version": "3.6.5"
  }
 },
 "nbformat": 4,
 "nbformat_minor": 2
}
